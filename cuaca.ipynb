{
 "cells": [
  {
   "cell_type": "code",
   "execution_count": 11,
   "metadata": {},
   "outputs": [
    {
     "name": "stdout",
     "output_type": "stream",
     "text": [
      "Pilih kota untuk mendapatkan data cuaca:\n",
      "1. Yogyakarta\n",
      "2. Banjarmasin\n",
      "3. Jakarta\n",
      "4. Bandung\n",
      "5. Surabaya\n",
      "6. manila\n",
      "7. Bali\n",
      "\n",
      "Cuaca di Yogyakarta:\n",
      "Suhu: 30.87°C\n",
      "Kelembapan: 58%\n",
      "Deskripsi: Light rain\n",
      "Kecepatan Angin: 5.75 m/s\n",
      "\n"
     ]
    }
   ],
   "source": [
    "import requests\n",
    "\n",
    "def get_weather(city_name, api_key):\n",
    "    url = f\"http://api.openweathermap.org/data/2.5/weather?q={city_name}&appid={api_key}&units=metric\"\n",
    "    response = requests.get(url)\n",
    "    \n",
    "    if response.status_code == 200:\n",
    "        data = response.json()\n",
    "        main = data['main']\n",
    "        weather = data['weather'][0]\n",
    "        \n",
    "        print(f\"\\nCuaca di {city_name}:\")\n",
    "        print(f\"Suhu: {main['temp']}°C\")\n",
    "        print(f\"Kelembapan: {main['humidity']}%\")\n",
    "        print(f\"Deskripsi: {weather['description'].capitalize()}\")\n",
    "        print(f\"Kecepatan Angin: {data['wind']['speed']} m/s\\n\")\n",
    "    else:\n",
    "        print(\"Data cuaca tidak ditemukan. Coba periksa nama kota atau API key.\")\n",
    "\n",
    "# API key dari user\n",
    "api_key = \"42daca0343e7e45990e0edf6ec9b5a48\"\n",
    "\n",
    "# Daftar kota\n",
    "cities = [\"Yogyakarta\",\"Banjarmasin\", \"Jakarta\", \"Bandung\", \"Surabaya\",\"manila\", \"Bali\"]\n",
    "\n",
    "# Menampilkan pilihan kota\n",
    "print(\"Pilih kota untuk mendapatkan data cuaca:\")\n",
    "for i, city in enumerate(cities, 1):\n",
    "    print(f\"{i}. {city}\")\n",
    "\n",
    "# Meminta pengguna memilih kota\n",
    "choice = int(input(\"Masukkan nomor kota pilihan Anda: \"))\n",
    "if 1 <= choice <= len(cities):\n",
    "    city_name = cities[choice - 1]\n",
    "    get_weather(city_name, api_key)\n",
    "else:\n",
    "    print(\"Pilihan tidak valid.\")\n"
   ]
  }
 ],
 "metadata": {
  "kernelspec": {
   "display_name": "kageo",
   "language": "python",
   "name": "python3"
  },
  "language_info": {
   "codemirror_mode": {
    "name": "ipython",
    "version": 3
   },
   "file_extension": ".py",
   "mimetype": "text/x-python",
   "name": "python",
   "nbconvert_exporter": "python",
   "pygments_lexer": "ipython3",
   "version": "3.10.0"
  }
 },
 "nbformat": 4,
 "nbformat_minor": 2
}
